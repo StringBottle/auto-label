{
 "cells": [
  {
   "cell_type": "code",
   "execution_count": 2,
   "id": "fb7d3360",
   "metadata": {},
   "outputs": [],
   "source": [
    "import sscv \n",
    "import mmcv \n",
    "import matplotlib.pyplot as plt \n",
    "import os.path as osp\n",
    "import numpy as np"
   ]
  },
  {
   "cell_type": "code",
   "execution_count": 3,
   "id": "3314c22b",
   "metadata": {},
   "outputs": [],
   "source": [
    "from glob import glob \n",
    "from PIL import Image\n",
    "from mmseg.apis import init_segmentor, inference_segmentor, show_result_pyplot\n",
    "from mmseg.core.evaluation import get_palette"
   ]
  },
  {
   "cell_type": "code",
   "execution_count": 4,
   "id": "7d50bbb8",
   "metadata": {},
   "outputs": [],
   "source": [
    "config_file = '/home/soojin/UOS-SSaS Dropbox/05. Data/03. Checkpoints/2020.09.02_deeplabv3plus_r101-d8_769x769_40k_concrete_damage_cs/deeplabv3plus_r101-d8_769x769_40k_concrete_damage_cs.py'\n",
    "checkpoint_file = '/home/soojin/UOS-SSaS Dropbox/05. Data/03. Checkpoints/2020.09.02_deeplabv3plus_r101-d8_769x769_40k_concrete_damage_cs/iter_40000.pth'"
   ]
  },
  {
   "cell_type": "code",
   "execution_count": 5,
   "id": "88e27085",
   "metadata": {},
   "outputs": [
    {
     "name": "stderr",
     "output_type": "stream",
     "text": [
      "/home/soojin/anaconda3/envs/auto-label/lib/python3.8/site-packages/mmseg/models/builder.py:59: UserWarning: train_cfg and test_cfg is deprecated, please specify them in model\n",
      "  warnings.warn(\n"
     ]
    },
    {
     "name": "stdout",
     "output_type": "stream",
     "text": [
      "Use load_from_local loader\n"
     ]
    }
   ],
   "source": [
    "# build the model from a config file and a checkpoint file\n",
    "model = init_segmentor(config_file, checkpoint_file, device='cuda:0')"
   ]
  },
  {
   "cell_type": "code",
   "execution_count": 6,
   "id": "043256a4",
   "metadata": {},
   "outputs": [],
   "source": [
    "auto_label_dir = \"/home/soojin/UOS-SSaS Dropbox/05. Data/06. Auto Learning/\"\n",
    "\n",
    "dataset_name = 'General Crack'\n",
    "raw_img_dir_name = '01. Raw Image'\n",
    "rsz_img_dir_name = '02. Resized Image'\n",
    "detection_result_dir_name = '01. Detection Result'\n",
    "\n",
    "\n",
    "dataset_dir = osp.join(auto_label_dir, dataset_name)\n",
    "raw_img_dir = osp.join(dataset_dir, raw_img_dir_name)\n",
    "rsz_img_dir = osp.join(dataset_dir, rsz_img_dir_name)\n",
    "detection_result_dir = osp.join(rsz_img_dir, detection_result_dir_name)"
   ]
  },
  {
   "cell_type": "code",
   "execution_count": 10,
   "id": "2f8f3c06",
   "metadata": {},
   "outputs": [
    {
     "data": {
      "text/plain": [
       "[]"
      ]
     },
     "execution_count": 10,
     "metadata": {},
     "output_type": "execute_result"
    }
   ],
   "source": [
    "rsz_img_list"
   ]
  },
  {
   "cell_type": "code",
   "execution_count": 9,
   "id": "e2b5c8d9",
   "metadata": {},
   "outputs": [],
   "source": [
    "rsz_img_list = [osp.basename(x) for x in glob(osp.join(rsz_img_dir, '*.jpg'))]\n",
    "\n",
    "for idx, img_filename in enumerate(rsz_img_list): \n",
    "    img_filepath = osp.join(rsz_img_dir, img_filename)\n",
    "    img_basename = osp.basename(img_filename).split('.')[0]\n",
    "    img = sscv.imread(img_filepath)\n",
    "    \n",
    "    result = inference_segmentor(model, img_filepath)\n",
    "    \n",
    "    detection_result_with_transparent_background = np.ones(img.shape, dtype = np.uint8)*255 # create white image \n",
    "    \n",
    "    crack_area = result[0] == 1\n",
    "    detection_result_with_transparent_background[crack_area, 0] =  255\n",
    "    detection_result_with_transparent_background[crack_area, 1] =  0\n",
    "    detection_result_with_transparent_background[crack_area, 2] =  0\n",
    "    \n",
    "    detection_result_with_transparent_background = Image.fromarray(detection_result_with_transparent_background) \n",
    "    detection_result_with_transparent_background = detection_result_with_transparent_background.convert(\"RGBA\")\n",
    "    \n",
    "    img_datas = detection_result_with_transparent_background.getdata()\n",
    "    \n",
    "    newData = []\n",
    "    \n",
    "    for item in img_datas:\n",
    "        if item[0] == 255 and item[1] == 255 and item[2] == 255:\n",
    "            newData.append((255, 255, 255, 0))\n",
    "        else:\n",
    "            newData.append(item)\n",
    "  \n",
    "    detection_result_with_transparent_background.putdata(newData)\n",
    "    detection_result_with_transparent_background.save(osp.join(detection_result_dir, img_basename + '_crack.png'), \"PNG\")"
   ]
  },
  {
   "cell_type": "code",
   "execution_count": null,
   "id": "fc1dd14f",
   "metadata": {},
   "outputs": [],
   "source": []
  }
 ],
 "metadata": {
  "kernelspec": {
   "display_name": "Python 3",
   "language": "python",
   "name": "python3"
  },
  "language_info": {
   "codemirror_mode": {
    "name": "ipython",
    "version": 3
   },
   "file_extension": ".py",
   "mimetype": "text/x-python",
   "name": "python",
   "nbconvert_exporter": "python",
   "pygments_lexer": "ipython3",
   "version": "3.8.8"
  }
 },
 "nbformat": 4,
 "nbformat_minor": 5
}
