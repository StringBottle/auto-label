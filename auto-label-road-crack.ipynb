{
 "cells": [
  {
   "cell_type": "code",
   "execution_count": 1,
   "id": "8c17f1be",
   "metadata": {},
   "outputs": [],
   "source": [
    "import sscv \n",
    "import mmcv \n",
    "import matplotlib.pyplot as plt \n",
    "import os.path as osp\n",
    "import numpy as np"
   ]
  },
  {
   "cell_type": "code",
   "execution_count": 2,
   "id": "82a8d358",
   "metadata": {},
   "outputs": [],
   "source": [
    "from glob import glob \n",
    "from PIL import Image\n",
    "from mmseg.apis import init_segmentor, inference_segmentor, show_result_pyplot\n",
    "from mmseg.core.evaluation import get_palette"
   ]
  },
  {
   "cell_type": "code",
   "execution_count": 3,
   "id": "71525261",
   "metadata": {},
   "outputs": [],
   "source": [
    "config_file = '/home/soojin/UOS-SSaS Dropbox/05. Data/03. Checkpoints/2021.04.16_deeplabv3plus_r101-d8_769x769_40k_concrete_crack/deeplabv3plus_r101-d8_769x769_40k_concrete_crack.py'\n",
    "checkpoint_file = '/home/soojin/UOS-SSaS Dropbox/05. Data/03. Checkpoints/2021.04.16_deeplabv3plus_r101-d8_769x769_40k_concrete_crack/iter_40000.pth'"
   ]
  },
  {
   "cell_type": "code",
   "execution_count": 4,
   "id": "f832cc8c",
   "metadata": {},
   "outputs": [
    {
     "name": "stderr",
     "output_type": "stream",
     "text": [
      "/home/soojin/anaconda3/envs/auto-label/lib/python3.8/site-packages/mmseg/models/builder.py:59: UserWarning: train_cfg and test_cfg is deprecated, please specify them in model\n",
      "  warnings.warn(\n"
     ]
    },
    {
     "name": "stdout",
     "output_type": "stream",
     "text": [
      "Use load_from_local loader\n"
     ]
    }
   ],
   "source": [
    "# build the model from a config file and a checkpoint file\n",
    "model = init_segmentor(config_file, checkpoint_file, device='cuda:0')"
   ]
  },
  {
   "cell_type": "code",
   "execution_count": 10,
   "id": "ac0aed43",
   "metadata": {},
   "outputs": [],
   "source": [
    "auto_label_dir = \"/home/soojin/UOS-SSaS Dropbox/05. Data/06. Auto Learning/\"\n",
    "\n",
    "dataset_name = 'Road Crack'\n",
    "raw_img_dir_name = '01. Raw Image'\n",
    "rsz_img_dir_name = '02. Resized Image'\n",
    "detection_result_dir_name = '01. Detection Result'\n",
    "\n",
    "\n",
    "dataset_dir = osp.join(auto_label_dir, dataset_name)\n",
    "raw_img_dir = osp.join(dataset_dir, raw_img_dir_name)\n",
    "rsz_img_dir = osp.join(dataset_dir, rsz_img_dir_name)\n",
    "detection_result_dir = osp.join(rsz_img_dir, detection_result_dir_name)"
   ]
  },
  {
   "cell_type": "code",
   "execution_count": 11,
   "id": "fe314970",
   "metadata": {},
   "outputs": [],
   "source": [
    "# Find difference btw raw and resized img lists \n",
    "raw_img_list = [osp.basename(x) for x in glob(osp.join(raw_img_dir, '*.jpg'))]\n",
    "rsz_img_list = [osp.basename(x) for x in glob(osp.join(rsz_img_dir, '*.jpg'))]\n",
    "\n",
    "imgs_to_rsz_list = [img_path for img_path in raw_img_list if img_path not in rsz_img_list]\n"
   ]
  },
  {
   "cell_type": "code",
   "execution_count": 25,
   "id": "ea29b885",
   "metadata": {},
   "outputs": [
    {
     "ename": "NameError",
     "evalue": "name 'join' is not defined",
     "output_type": "error",
     "traceback": [
      "\u001b[0;31m---------------------------------------------------------------------------\u001b[0m",
      "\u001b[0;31mNameError\u001b[0m                                 Traceback (most recent call last)",
      "\u001b[0;32m<ipython-input-25-f00dfaaa23bc>\u001b[0m in \u001b[0;36m<module>\u001b[0;34m\u001b[0m\n\u001b[0;32m----> 1\u001b[0;31m \u001b[0mjoin\u001b[0m\u001b[0;34m(\u001b[0m\u001b[0mraw_img_dir\u001b[0m\u001b[0;34m,\u001b[0m \u001b[0;34m'*.jpg'\u001b[0m\u001b[0;34m)\u001b[0m\u001b[0;34m\u001b[0m\u001b[0;34m\u001b[0m\u001b[0m\n\u001b[0m",
      "\u001b[0;31mNameError\u001b[0m: name 'join' is not defined"
     ]
    }
   ],
   "source": [
    "join(raw_img_dir, '*.jpg')"
   ]
  },
  {
   "cell_type": "code",
   "execution_count": 12,
   "id": "b55ff3b4",
   "metadata": {},
   "outputs": [],
   "source": [
    "# Move image from raw folder to resize folder \n",
    "for idx, img_filename in enumerate(imgs_to_rsz_list): \n",
    "    org_img_path = osp.join(raw_img_dir, img_filename)\n",
    "    img = sscv.imread(org_img_path)\n",
    "    rsz_img_path = osp.join(rsz_img_dir, img_filename)\n",
    "    \n",
    "    is_height_longer = img.shape[0] > img.shape[1]\n",
    "    \n",
    "    if is_height_longer : \n",
    "        rsz_img = sscv.resize(img, height = 1024)\n",
    "    else : \n",
    "        rsz_img = sscv.resize(img, width = 1024)\n",
    "        \n",
    "    print(\"Image Num: {}, Original Image Shape: {}, Resized Image Shape : {}, Image Filename: {} \"\n",
    "          .format(idx, img.shape, rsz_img.shape, img_filename)\n",
    "         )\n",
    "    \n",
    "    sscv.imwrite(rsz_img_path, rsz_img)\n",
    "    clear_output(wait=True)\n",
    "\n",
    "    "
   ]
  },
  {
   "cell_type": "code",
   "execution_count": 13,
   "id": "10ff960a",
   "metadata": {},
   "outputs": [],
   "source": [
    "rsz_img_list = [osp.basename(x) for x in glob(osp.join(rsz_img_dir, '*.jpg'))]\n",
    "\n",
    "for idx, img_filename in enumerate(rsz_img_list): \n",
    "    img_filepath = osp.join(rsz_img_dir, img_filename)\n",
    "    img_basename = osp.basename(img_filename).split('.')[0]\n",
    "    img = sscv.imread(img_filepath)\n",
    "    \n",
    "    result = inference_segmentor(model, img_filepath)\n",
    "    \n",
    "    detection_result_with_transparent_background = np.ones(img.shape, dtype = np.uint8)*255 # create white image \n",
    "    \n",
    "    crack_area = result[0] == 1\n",
    "    detection_result_with_transparent_background[crack_area, 0] =  255\n",
    "    detection_result_with_transparent_background[crack_area, 1] =  0\n",
    "    detection_result_with_transparent_background[crack_area, 2] =  0\n",
    "    \n",
    "    detection_result_with_transparent_background = Image.fromarray(detection_result_with_transparent_background) \n",
    "    detection_result_with_transparent_background = detection_result_with_transparent_background.convert(\"RGBA\")\n",
    "    \n",
    "    img_datas = detection_result_with_transparent_background.getdata()\n",
    "    \n",
    "    newData = []\n",
    "    \n",
    "    for item in img_datas:\n",
    "        if item[0] == 255 and item[1] == 255 and item[2] == 255:\n",
    "            newData.append((255, 255, 255, 0))\n",
    "        else:\n",
    "            newData.append(item)\n",
    "  \n",
    "    detection_result_with_transparent_background.putdata(newData)\n",
    "    detection_result_with_transparent_background.save(osp.join(detection_result_dir, img_basename + '_crack.png'), \"PNG\")"
   ]
  },
  {
   "cell_type": "code",
   "execution_count": null,
   "id": "ed8f38e0",
   "metadata": {},
   "outputs": [],
   "source": []
  },
  {
   "cell_type": "code",
   "execution_count": null,
   "id": "7a32048e",
   "metadata": {},
   "outputs": [],
   "source": []
  },
  {
   "cell_type": "markdown",
   "id": "0cae39c7",
   "metadata": {},
   "source": []
  },
  {
   "cell_type": "code",
   "execution_count": 1,
   "id": "27014848",
   "metadata": {},
   "outputs": [],
   "source": [
    "import cv2\n",
    "import matplotlib.pyplot as plt\n",
    "import os.path as osp \n",
    "import sscv \n",
    "\n",
    "from glob import glob \n",
    "from tqdm import tqdm\n",
    "from IPython.display import clear_output"
   ]
  },
  {
   "cell_type": "code",
   "execution_count": 2,
   "id": "9b4606be",
   "metadata": {},
   "outputs": [],
   "source": [
    "auto_label_dir = \"/run/user/1000/gvfs/afp-volume:host=DiskStation.local,user=shm_nas,volume=Volume_2/02. Training & Test/\"\n",
    "\n",
    "dataset_name = 'mihochun_crack_trainingset'\n",
    "raw_img_dir_name = '01. raw image'\n",
    "crop_img_dir_name = '02. cropped images'\n",
    "label_dir_name = '04. labeling'\n",
    "pre_label_dir_name = '01. rough-labeling'\n",
    "\n",
    "dataset_dir = osp.join(auto_label_dir, dataset_name)\n",
    "raw_img_dir = osp.join(dataset_dir, raw_img_dir_name)\n",
    "crop_img_dir = osp.join(dataset_dir, crop_img_dir_name)\n",
    "pre_label_dir = osp.join(crop_img_dir, pre_label_dir_name)"
   ]
  },
  {
   "cell_type": "code",
   "execution_count": 5,
   "id": "bd1ab83b",
   "metadata": {},
   "outputs": [],
   "source": [
    "# crop image from raw to cropped image \n",
    "from PIL import Image\n",
    "from mmseg.apis import init_segmentor, inference_segmentor, show_result_pyplot\n",
    "from mmseg.core.evaluation import get_palette\n"
   ]
  },
  {
   "cell_type": "code",
   "execution_count": 6,
   "id": "a414e018",
   "metadata": {},
   "outputs": [],
   "source": [
    "config_file = '/home/soojin/UOS-SSaS Dropbox/05. Data/03. Checkpoints/2021.04.16_deeplabv3plus_r101-d8_769x769_40k_concrete_crack/deeplabv3plus_r101-d8_769x769_40k_concrete_crack.py'\n",
    "checkpoint_file = '/home/soojin/UOS-SSaS Dropbox/05. Data/03. Checkpoints/2021.04.16_deeplabv3plus_r101-d8_769x769_40k_concrete_crack/iter_40000.pth'\n"
   ]
  },
  {
   "cell_type": "code",
   "execution_count": 7,
   "id": "573f5b27",
   "metadata": {},
   "outputs": [
    {
     "name": "stderr",
     "output_type": "stream",
     "text": [
      "/home/soojin/anaconda3/envs/auto-label/lib/python3.8/site-packages/mmseg/models/builder.py:59: UserWarning: train_cfg and test_cfg is deprecated, please specify them in model\n",
      "  warnings.warn(\n"
     ]
    },
    {
     "name": "stdout",
     "output_type": "stream",
     "text": [
      "Use load_from_local loader\n"
     ]
    }
   ],
   "source": [
    "# build the model from a config file and a checkpoint file\n",
    "model = init_segmentor(config_file, checkpoint_file, device='cuda:0')"
   ]
  },
  {
   "cell_type": "code",
   "execution_count": null,
   "id": "5bb70515",
   "metadata": {},
   "outputs": [],
   "source": []
  }
 ],
 "metadata": {
  "kernelspec": {
   "display_name": "Python 3",
   "language": "python",
   "name": "python3"
  },
  "language_info": {
   "codemirror_mode": {
    "name": "ipython",
    "version": 3
   },
   "file_extension": ".py",
   "mimetype": "text/x-python",
   "name": "python",
   "nbconvert_exporter": "python",
   "pygments_lexer": "ipython3",
   "version": "3.8.8"
  }
 },
 "nbformat": 4,
 "nbformat_minor": 5
}
