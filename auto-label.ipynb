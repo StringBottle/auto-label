{
 "cells": [
  {
   "cell_type": "code",
   "execution_count": 1,
   "id": "b3a6496c",
   "metadata": {},
   "outputs": [],
   "source": [
    "import cv2\n",
    "import matplotlib.pyplot as plt\n",
    "import os.path as osp \n",
    "import sscv \n",
    "\n",
    "from glob import glob \n",
    "from tqdm import tqdm\n",
    "from IPython.display import clear_output"
   ]
  },
  {
   "cell_type": "code",
   "execution_count": 2,
   "id": "18473268",
   "metadata": {},
   "outputs": [],
   "source": [
    "auto_label_dir = \"/home/soojin/UOS-SSaS Dropbox/05. Data/06. Auto Learning/\"\n",
    "\n",
    "dataset_name = 'General Crack'\n",
    "raw_img_dir_name = '01. Raw Image'\n",
    "rsz_img_dir_name = '02. Resized Image'\n",
    "pre_label_dir_name = '03. Pre-labeled Psd Files'\n",
    "corrected_label_dir_name = '04. Corrected Psd files' \n",
    "\n",
    "dataset_dir = osp.join(auto_label_dir, dataset_name)\n",
    "raw_img_dir = osp.join(dataset_dir, raw_img_dir_name)\n",
    "rsz_img_dir = osp.join(dataset_dir, rsz_img_dir_name)\n",
    "pre_label_dir = osp.join(dataset_dir, pre_label_dir_name)\n",
    "corrected_label_dir = osp.join(dataset_dir, corrected_label_dir_name) \n"
   ]
  },
  {
   "cell_type": "code",
   "execution_count": 5,
   "id": "e6d48c40",
   "metadata": {},
   "outputs": [],
   "source": [
    "# Find difference btw raw and resized img lists \n",
    "raw_img_list = [osp.basename(x) for x in glob(osp.join(raw_img_dir, '*.jpg'))]\n",
    "rsz_img_list = [osp.basename(x) for x in glob(osp.join(rsz_img_dir, '*.jpg'))]\n",
    "\n",
    "imgs_to_rsz_list = [img_path for img_path in raw_img_list if img_path not in rsz_img_list]\n"
   ]
  },
  {
   "cell_type": "code",
   "execution_count": 4,
   "id": "49c03c03",
   "metadata": {},
   "outputs": [
    {
     "name": "stdout",
     "output_type": "stream",
     "text": [
      "Image Num: 1, Original Image Shape: (3264, 1836, 3), Resized Image Shape : (2048, 1152, 3), Image Filename: 20180216_151948.jpg \n"
     ]
    }
   ],
   "source": [
    "# Move image from raw folder to resize folder \n",
    "for idx, img_filename in enumerate(imgs_to_rsz_list): \n",
    "    org_img_path = osp.join(raw_img_dir, img_filename)\n",
    "    img = sscv.imread(org_img_path)\n",
    "    rsz_img_path = osp.join(rsz_img_dir, img_filename)\n",
    "    \n",
    "    is_height_longer = img.shape[0] > img.shape[1]\n",
    "    \n",
    "    if is_height_longer : \n",
    "        rsz_img = sscv.resize(img, height = 2048)\n",
    "    else : \n",
    "        rsz_img = sscv.resize(img, width = 2048)\n",
    "        \n",
    "    print(\"Image Num: {}, Original Image Shape: {}, Resized Image Shape : {}, Image Filename: {} \"\n",
    "          .format(idx, img.shape, rsz_img.shape, img_filename)\n",
    "         )\n",
    "    \n",
    "    sscv.imwrite(rsz_img_path, rsz_img)\n",
    "    clear_output(wait=True)\n",
    "\n",
    "    "
   ]
  },
  {
   "cell_type": "code",
   "execution_count": null,
   "id": "c2fbf48b",
   "metadata": {},
   "outputs": [],
   "source": []
  }
 ],
 "metadata": {
  "kernelspec": {
   "display_name": "Python 3",
   "language": "python",
   "name": "python3"
  },
  "language_info": {
   "codemirror_mode": {
    "name": "ipython",
    "version": 3
   },
   "file_extension": ".py",
   "mimetype": "text/x-python",
   "name": "python",
   "nbconvert_exporter": "python",
   "pygments_lexer": "ipython3",
   "version": "3.8.8"
  }
 },
 "nbformat": 4,
 "nbformat_minor": 5
}
